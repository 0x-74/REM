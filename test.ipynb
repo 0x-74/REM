{
 "cells": [
  {
   "cell_type": "code",
   "execution_count": 130,
   "metadata": {},
   "outputs": [],
   "source": [
    "from selenium import webdriver\n",
    "from selenium.webdriver.common.by import By\n",
    "import csv\n",
    "import pandas as pd\n",
    "from selenium.webdriver.chrome.options import Options\n",
    "import re"
   ]
  },
  {
   "cell_type": "code",
   "execution_count": 131,
   "metadata": {},
   "outputs": [],
   "source": [
    "pages=25\n",
    "file_path = 'output.txt'\n",
    "csv_file_path = 'transcripts.csv'\n",
    "header = ['Character', 'Sentence']"
   ]
  },
  {
   "cell_type": "code",
   "execution_count": 132,
   "metadata": {},
   "outputs": [
    {
     "name": "stderr",
     "output_type": "stream",
     "text": [
      "Error sending stats to Plausible: error sending request for url (https://plausible.io/api/event): operation timed out\n"
     ]
    }
   ],
   "source": [
    "chrome_options = Options()\n",
    "chrome_options.add_argument(\"--headless=new\")\n",
    "driver = webdriver.Chrome(options=chrome_options)\n",
    "output_file = open(file_path, \"w\",encoding='utf-8')  \n",
    "\n",
    "for page in range(pages):\n",
    "    driver.get(f\"https://www.animecharactersdatabase.com/episodetranscript.php?pid=104802&epid={page+1}\")\n",
    "    transcript = driver.find_element(By.ID, 'transcript').text\n",
    "    output_file.write(transcript)\n",
    "\n",
    "output_file.close()  \n",
    "driver.quit()\n"
   ]
  },
  {
   "cell_type": "code",
   "execution_count": 133,
   "metadata": {},
   "outputs": [],
   "source": [
    "splitter = re.compile(r'\\([\\w\\:.]+\\)')\n",
    "pattern = re.compile(r'(^[^:]+):([^|]*)')"
   ]
  },
  {
   "cell_type": "code",
   "execution_count": 142,
   "metadata": {},
   "outputs": [],
   "source": [
    "with open(file_path, 'r', encoding='utf-8') as file:\n",
    "    text_data = file.read()\n",
    "lines = text_data.strip().split('▶')"
   ]
  },
  {
   "cell_type": "code",
   "execution_count": 168,
   "metadata": {},
   "outputs": [],
   "source": [
    "with open(file_path, 'r', encoding='utf-8') as file:\n",
    "    with open(csv_file_path, 'w', newline='', encoding='utf-8') as csv_file:\n",
    "        csv_writer = csv.writer(csv_file,delimiter='|')\n",
    "        csv_writer.writerow(header)\n",
    "        for line in lines:\n",
    "            re.match(pattern, line)\n",
    "            if re.match(pattern, line):\n",
    "                \n",
    "                line = re.split(splitter, line)\n",
    "\n",
    "                # character = re.match(pattern, line).group(1)\n",
    "                # sentence = re.match(pattern, line).group(2)\n",
    "                # csv_writer.writerow([character, sentence])\n",
    "            \n",
    "                try:\n",
    "                    character = re.match(pattern, line[0]).group(1)\n",
    "                    sentence = re.match(pattern, line[0]).group(2)\n",
    "                    csv_writer.writerow([character, sentence])\n",
    "                except:\n",
    "                    line = \"\".join(line)\n",
    "                    character = re.match(pattern, line).group(1)\n",
    "                    sentence = re.match(pattern, line).group(2)\n",
    "                    csv_writer.writerow([character, sentence])\n",
    "                \n",
    "            else:\n",
    "                pass\n",
    "        "
   ]
  },
  {
   "cell_type": "code",
   "execution_count": 183,
   "metadata": {},
   "outputs": [
    {
     "data": {
      "text/plain": [
       "Character\n",
       "Subaru Natsuki              4008\n",
       "Rem                          829\n",
       "Emilia                       783\n",
       "Ram                          424\n",
       "Crusch Karsten               363\n",
       "Petelgeuse Romanee-Conti     322\n",
       "EXTRA                        300\n",
       "Beatrice                     281\n",
       "Puck                         269\n",
       "Julius Euclius               232\n",
       "Felix Argyle                 206\n",
       "Wilhelm van Astrea           172\n",
       "Felt                         164\n",
       "Reinhard van Astrea          160\n",
       "Roswaal L. Mathers           137\n",
       "Otto Suwen                   115\n",
       "Anastasia Hoshin             106\n",
       "Priscilla Barielle            88\n",
       "Kadomon Risch                 75\n",
       "Elsa Granhiert                70\n",
       "Ricardo                       59\n",
       "Mimi Pearlbaton               56\n",
       "Marcos                        41\n",
       "Aldebaran                     37\n",
       "Wilhelm ( Younger )           37\n",
       "Rom                           27\n",
       "Theresia van Astrea           24\n",
       "Russell Fellow                23\n",
       "Ton                           22\n",
       "Miklotov                      20\n",
       "Chin                          18\n",
       "Hetaro                        17\n",
       "Tivey                         17\n",
       "Kan                           15\n",
       "Ram ( Child )                 13\n",
       "Conwood Melahau               11\n",
       "Bordeaux                      10\n",
       "Temae                         10\n",
       "Rickert                        8\n",
       "Quark                          8\n",
       "Setanta                        8\n",
       "Frederica Baumann              1\n",
       "Name: count, dtype: int64"
      ]
     },
     "execution_count": 183,
     "metadata": {},
     "output_type": "execute_result"
    }
   ],
   "source": [
    "df = pd.read_csv('transcripts.csv', sep='|')\n",
    "df.Character = df.Character.apply(lambda x: x.strip())\n",
    "\n",
    "df.Character.value_counts()"
   ]
  },
  {
   "cell_type": "code",
   "execution_count": 187,
   "metadata": {},
   "outputs": [
    {
     "data": {
      "text/html": [
       "<div>\n",
       "<style scoped>\n",
       "    .dataframe tbody tr th:only-of-type {\n",
       "        vertical-align: middle;\n",
       "    }\n",
       "\n",
       "    .dataframe tbody tr th {\n",
       "        vertical-align: top;\n",
       "    }\n",
       "\n",
       "    .dataframe thead th {\n",
       "        text-align: right;\n",
       "    }\n",
       "</style>\n",
       "<table border=\"1\" class=\"dataframe\">\n",
       "  <thead>\n",
       "    <tr style=\"text-align: right;\">\n",
       "      <th></th>\n",
       "      <th>name</th>\n",
       "      <th>Sentence</th>\n",
       "    </tr>\n",
       "  </thead>\n",
       "  <tbody>\n",
       "    <tr>\n",
       "      <th>0</th>\n",
       "      <td>Emilia</td>\n",
       "      <td>It's getting lonelier and lonelier.</td>\n",
       "    </tr>\n",
       "    <tr>\n",
       "      <th>1</th>\n",
       "      <td>Subaru Natsuki</td>\n",
       "      <td>This is bad... Very bad...</td>\n",
       "    </tr>\n",
       "    <tr>\n",
       "      <th>2</th>\n",
       "      <td>Emilia</td>\n",
       "      <td>Subaru? What's wrong?</td>\n",
       "    </tr>\n",
       "    <tr>\n",
       "      <th>3</th>\n",
       "      <td>Subaru Natsuki</td>\n",
       "      <td>Ah, I see. This is where they suck you in.</td>\n",
       "    </tr>\n",
       "    <tr>\n",
       "      <th>4</th>\n",
       "      <td>Subaru Natsuki</td>\n",
       "      <td>No... Run! Hurry!</td>\n",
       "    </tr>\n",
       "    <tr>\n",
       "      <th>...</th>\n",
       "      <td>...</td>\n",
       "      <td>...</td>\n",
       "    </tr>\n",
       "    <tr>\n",
       "      <th>9581</th>\n",
       "      <td>Subaru Natsuki</td>\n",
       "      <td>You can take your time, Emilia.</td>\n",
       "    </tr>\n",
       "    <tr>\n",
       "      <th>9582</th>\n",
       "      <td>Subaru Natsuki</td>\n",
       "      <td>You can take your time and slowly,\\nsteadily ...</td>\n",
       "    </tr>\n",
       "    <tr>\n",
       "      <th>9583</th>\n",
       "      <td>Subaru Natsuki</td>\n",
       "      <td>I'll do my best, so I can walk by your side.\\...</td>\n",
       "    </tr>\n",
       "    <tr>\n",
       "      <th>9584</th>\n",
       "      <td>Emilia</td>\n",
       "      <td>Thank you, Subaru...</td>\n",
       "    </tr>\n",
       "    <tr>\n",
       "      <th>9585</th>\n",
       "      <td>Emilia</td>\n",
       "      <td>For saving me.</td>\n",
       "    </tr>\n",
       "  </tbody>\n",
       "</table>\n",
       "<p>9586 rows × 2 columns</p>\n",
       "</div>"
      ],
      "text/plain": [
       "                name                                           Sentence\n",
       "0             Emilia               It's getting lonelier and lonelier. \n",
       "1     Subaru Natsuki                        This is bad... Very bad... \n",
       "2             Emilia                             Subaru? What's wrong? \n",
       "3     Subaru Natsuki        Ah, I see. This is where they suck you in. \n",
       "4     Subaru Natsuki                                 No... Run! Hurry! \n",
       "...              ...                                                ...\n",
       "9581  Subaru Natsuki                   You can take your time, Emilia. \n",
       "9582  Subaru Natsuki   You can take your time and slowly,\\nsteadily ...\n",
       "9583  Subaru Natsuki   I'll do my best, so I can walk by your side.\\...\n",
       "9584          Emilia                              Thank you, Subaru... \n",
       "9585          Emilia                                    For saving me. \n",
       "\n",
       "[9586 rows x 2 columns]"
      ]
     },
     "execution_count": 187,
     "metadata": {},
     "output_type": "execute_result"
    }
   ],
   "source": [
    "df.rename(columns={\"Character\":\"name\"})"
   ]
  },
  {
   "cell_type": "code",
   "execution_count": null,
   "metadata": {},
   "outputs": [],
   "source": []
  }
 ],
 "metadata": {
  "kernelspec": {
   "display_name": "Python 3",
   "language": "python",
   "name": "python3"
  },
  "language_info": {
   "codemirror_mode": {
    "name": "ipython",
    "version": 3
   },
   "file_extension": ".py",
   "mimetype": "text/x-python",
   "name": "python",
   "nbconvert_exporter": "python",
   "pygments_lexer": "ipython3",
   "version": "3.12.1"
  }
 },
 "nbformat": 4,
 "nbformat_minor": 2
}
